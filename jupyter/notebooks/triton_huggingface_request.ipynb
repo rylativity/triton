{
 "cells": [
  {
   "cell_type": "code",
   "execution_count": 11,
   "id": "186487f3-3ebd-4c44-b66b-a3a003802481",
   "metadata": {},
   "outputs": [],
   "source": [
    "import requests\n",
    "import json"
   ]
  },
  {
   "cell_type": "code",
   "execution_count": 12,
   "id": "14068e6e-db0f-4943-99f4-e1570e0381b7",
   "metadata": {},
   "outputs": [],
   "source": [
    "TRITON_ENDPOINT = \"http://server:8000/v2/models/qwen2.5/infer\""
   ]
  },
  {
   "cell_type": "code",
   "execution_count": 13,
   "id": "2ef0edcc-308c-450d-bea9-83358541eb25",
   "metadata": {},
   "outputs": [],
   "source": [
    "payload = json.dumps({\n",
    "    \"inputs\": [\n",
    "        {\n",
    "            \"name\":\"text_input\",\n",
    "            \"datatype\":\"BYTES\",\n",
    "            \"shape\":[1],\n",
    "            \"data\":[\"User:Write a short story about dogs.\\n\\nAssistant:\"]\n",
    "        }\n",
    "    ]\n",
    "})"
   ]
  },
  {
   "cell_type": "code",
   "execution_count": 14,
   "id": "87e823c8-5b47-41ae-b77e-ae1254551e16",
   "metadata": {},
   "outputs": [],
   "source": [
    "res = requests.post(TRITON_ENDPOINT, data=payload)"
   ]
  },
  {
   "cell_type": "code",
   "execution_count": 15,
   "id": "ba310da1-a217-4807-851d-48d18a53db5e",
   "metadata": {},
   "outputs": [
    {
     "data": {
      "text/plain": [
       "b'{\"model_name\":\"qwen2.5\",\"model_version\":\"1\",\"outputs\":[{\"name\":\"text_output\",\"datatype\":\"BYTES\",\"shape\":[1],\"data\":[\"User:Write a short story about dogs.\\\\n\\\\nAssistant: Once upon a time, there was a group of friendly and loyal dogs who lived in the same neighborhood. They were known for their love of playing fetch with each other, their ability to work together to complete tasks, and their devotion to one another.\\\\n\\\\nOne sunny morning, the dogs decided it was time to go outside and play some more. As they walked through the park, they saw a small puppy sitting on a bench nearby. The puppies watched\"]}]}'"
      ]
     },
     "execution_count": 15,
     "metadata": {},
     "output_type": "execute_result"
    }
   ],
   "source": [
    "res.content"
   ]
  },
  {
   "cell_type": "code",
   "execution_count": null,
   "id": "134483ea-479d-4237-9152-37e8c479bd62",
   "metadata": {},
   "outputs": [],
   "source": []
  }
 ],
 "metadata": {
  "kernelspec": {
   "display_name": "Python 3 (ipykernel)",
   "language": "python",
   "name": "python3"
  },
  "language_info": {
   "codemirror_mode": {
    "name": "ipython",
    "version": 3
   },
   "file_extension": ".py",
   "mimetype": "text/x-python",
   "name": "python",
   "nbconvert_exporter": "python",
   "pygments_lexer": "ipython3",
   "version": "3.12.8"
  }
 },
 "nbformat": 4,
 "nbformat_minor": 5
}
